{
 "cells": [
  {
   "cell_type": "code",
   "execution_count": 1,
   "id": "19e9517b",
   "metadata": {},
   "outputs": [
    {
     "name": "stdout",
     "output_type": "stream",
     "text": [
      "Saved cropped images for C:/Users/dhyan/Downloads/data/oval.png\n"
     ]
    }
   ],
   "source": [
    "##masking images and saving it subfolderwise\n",
    "\n",
    "import os\n",
    "import json\n",
    "import shutil #to create subfolders \n",
    "from PIL import Image\n",
    "from PIL import ImageDraw\n",
    "\n",
    "def crop_polygons(image_path, json_path, output_folder):\n",
    "    # Load JSON file\n",
    "    with open(json_path, 'r') as file:\n",
    "        data = json.load(file)\n",
    "\n",
    "    # Open the image\n",
    "    image = Image.open(image_path)\n",
    "\n",
    "    # Counter variable for contour index\n",
    "    contour_index = 0  # to assign a unique index to each contour while saving them as separate cropped images.\n",
    "\n",
    "    # Iterate over each shape in the JSON file\n",
    "    for shape in data['shapes']:\n",
    "        label = shape['label']\n",
    "        points = shape['points']\n",
    "\n",
    "        # Convert points to integers\n",
    "        points = [(int(x), int(y)) for x, y in points]\n",
    "\n",
    "        # Create a new image with white background\n",
    "        cropped_image = Image.new('RGBA', image.size, (255, 255, 255, 0))\n",
    "        draw = ImageDraw.Draw(cropped_image)\n",
    "\n",
    "        # Draw the polygon on the new image\n",
    "        draw.polygon(points, fill=(255, 255, 255, 255))\n",
    "\n",
    "        # Copy the original image within the polygon bounds\n",
    "        mask = Image.new('L', image.size, 0) \n",
    "        # to create a new image (mask) with the same size as the input image, initialized with a black (zero) intensity value.\n",
    "        #'L' stands for grayscale mode,the image will have only a single channel representing the intensity values ranging from 0 to 255.\n",
    "        ImageDraw.Draw(mask).polygon(points, outline=1, fill=1)\n",
    "        cropped_image.paste(image, (0, 0), mask=mask)\n",
    "\n",
    "        # Create a subfolder for the image (if not already exists)\n",
    "        image_filename = os.path.splitext(os.path.basename(image_path))[0]\n",
    "        image_subfolder = os.path.join(output_folder, image_filename)\n",
    "        os.makedirs(image_subfolder, exist_ok=True)\n",
    "\n",
    "        # Save the cropped image within the contour folder\n",
    "        output_filename = f\"{label}_{contour_index}_cropped.png\"\n",
    "        output_path = os.path.join(image_subfolder, output_filename)\n",
    "        cropped_image.save(output_path)\n",
    "\n",
    "        contour_index += 1\n",
    "\n",
    "    print(f'Saved cropped images for {image_path}')\n",
    "\n",
    "# Input folder containing .bmp files and JSON files\n",
    "input_folder = 'C:/Users/dhyan/Downloads/data/'\n",
    "\n",
    "# Output folder for the cropped images\n",
    "output_folder = 'C:/Users/dhyan/Downloads/data/output_mask/'\n",
    "\n",
    "# Iterate over each file in the input folder\n",
    "for filename in os.listdir(input_folder):\n",
    "    if filename.endswith('.png'):\n",
    "        image_path = os.path.join(input_folder, filename) #to concatenate the paths\n",
    "        json_path = os.path.join(input_folder, filename.replace('.png', '.json'))\n",
    "\n",
    "        # Create subfolders and crop the polygons\n",
    "        crop_polygons(image_path, json_path, output_folder)\n",
    "\n",
    "        #here you will get the outputs of each product of image in different folders."
   ]
  },
  {
   "cell_type": "code",
   "execution_count": null,
   "id": "23c12cf4",
   "metadata": {},
   "outputs": [],
   "source": []
  }
 ],
 "metadata": {
  "kernelspec": {
   "display_name": "Python 3 (ipykernel)",
   "language": "python",
   "name": "python3"
  },
  "language_info": {
   "codemirror_mode": {
    "name": "ipython",
    "version": 3
   },
   "file_extension": ".py",
   "mimetype": "text/x-python",
   "name": "python",
   "nbconvert_exporter": "python",
   "pygments_lexer": "ipython3",
   "version": "3.9.12"
  }
 },
 "nbformat": 4,
 "nbformat_minor": 5
}
