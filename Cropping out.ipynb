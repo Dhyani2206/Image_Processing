{
 "cells": [
  {
   "cell_type": "code",
   "execution_count": 4,
   "id": "7da9b919",
   "metadata": {},
   "outputs": [],
   "source": [
    "### Takes user input of how much increase is to be done in the image and then respectively changes width and height crops the outer image of the image\n",
    "#cropping out"
   ]
  },
  {
   "cell_type": "code",
   "execution_count": 3,
   "id": "1027fb3e",
   "metadata": {},
   "outputs": [
    {
     "name": "stdout",
     "output_type": "stream",
     "text": [
      "Enter the size increase for cropping: 2\n"
     ]
    }
   ],
   "source": [
    "import cv2\n",
    "import json\n",
    "import numpy as np\n",
    "import os\n",
    "\n",
    "def draw_rectangle(image, points):\n",
    "    rect = cv2.minAreaRect(points)\n",
    "    box = cv2.boxPoints(rect)\n",
    "    box = np.int0(box)\n",
    "    cv2.drawContours(image, [box], 0, (0, 0, 255), 2)\n",
    "\n",
    "def crop_polygon(image, points, output_path, increase_size):\n",
    "    rect = cv2.minAreaRect(points)#cropping red rectangle\n",
    "    box = cv2.boxPoints(rect)\n",
    "    box = np.int0(box)\n",
    "\n",
    "    x, y, w, h = cv2.boundingRect(box) #cropping of region\n",
    "    w += increase_size * 2  \n",
    "    h += increase_size * 2\n",
    "    # *2 as to add the increase on both sides of the width and height\n",
    "    \n",
    "    cropped_image = image[max(0, y):y+h, max(0, x):x+w]\n",
    "    cv2.imwrite(output_path, cropped_image)\n",
    "\n",
    "def process_json(json_path, image_path, output_folder, increase_size):\n",
    "    with open(json_path) as json_file:\n",
    "        data = json.load(json_file)\n",
    "\n",
    "    image = cv2.imread(image_path)\n",
    "\n",
    "    for i, shape in enumerate(data[\"shapes\"]):\n",
    "        if shape[\"shape_type\"] == \"polygon\":\n",
    "            points = shape[\"points\"]\n",
    "            points = np.array(points, dtype=np.float32)\n",
    "\n",
    "            label = shape[\"label\"]\n",
    "            image_basename = os.path.basename(image_path)\n",
    "            image_name = os.path.splitext(image_basename)[0]\n",
    "            subfolder = os.path.join(output_folder, image_name)\n",
    "            os.makedirs(subfolder, exist_ok=True)\n",
    "\n",
    "            output_path = os.path.join(subfolder, f\"product_{i}_{image_basename}\")\n",
    "\n",
    "            draw_rectangle(image, points)\n",
    "            crop_polygon(image, points, output_path, increase_size)\n",
    "\n",
    "    cv2.imshow(\"Annotated Image\", image)\n",
    "    cv2.waitKey(0)\n",
    "    cv2.destroyAllWindows()\n",
    "\n",
    "# Provide the path to the folder containing JSON files and images\n",
    "#input_folder = input(\"Enter the path to the input folder: \")\n",
    "#output_folder = input(\"Enter the path to the output folder: \")\n",
    "input_folder = \"C:/Users/dhyan/Downloads/data/\"\n",
    "output_folder = \"C:/Users/dhyan/Downloads/data/output/\"\n",
    "increase_size = int(input(\"Enter the size increase for cropping: \"))\n",
    "\n",
    "# Process each JSON file and its corresponding image\n",
    "for filename in os.listdir(input_folder):\n",
    "    if filename.endswith(\".json\"):\n",
    "        json_path = os.path.join(input_folder, filename)\n",
    "        image_filename = os.path.splitext(filename)[0] + \".png\"\n",
    "        image_path = os.path.join(input_folder, image_filename)\n",
    "        process_json(json_path, image_path, output_folder, increase_size)"
   ]
  },
  {
   "cell_type": "code",
   "execution_count": null,
   "id": "39914ea2",
   "metadata": {},
   "outputs": [],
   "source": []
  }
 ],
 "metadata": {
  "kernelspec": {
   "display_name": "Python 3 (ipykernel)",
   "language": "python",
   "name": "python3"
  },
  "language_info": {
   "codemirror_mode": {
    "name": "ipython",
    "version": 3
   },
   "file_extension": ".py",
   "mimetype": "text/x-python",
   "name": "python",
   "nbconvert_exporter": "python",
   "pygments_lexer": "ipython3",
   "version": "3.9.12"
  }
 },
 "nbformat": 4,
 "nbformat_minor": 5
}
