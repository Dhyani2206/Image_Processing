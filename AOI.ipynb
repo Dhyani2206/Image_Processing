{
 "cells": [
  {
   "cell_type": "code",
   "execution_count": 4,
   "id": "17ff4723",
   "metadata": {},
   "outputs": [
    {
     "name": "stdout",
     "output_type": "stream",
     "text": [
      "Area of Interest (AOI) Area: 50000 pixels\n"
     ]
    }
   ],
   "source": [
    "import cv2\n",
    "import numpy as np\n",
    "\n",
    "def crop_image_to_aoi(image_path, x, y, width, height, output_path):\n",
    "    # Read the image using OpenCV\n",
    "    img = cv2.imread(image_path)\n",
    "    \n",
    "    # Ensure valid AOI coordinates within image bounds\n",
    "    img_height, img_width, _ = img.shape\n",
    "    x = max(0, x)\n",
    "    y = max(0, y)\n",
    "    width = min(width, img_width - x)\n",
    "    height = min(height, img_height - y)\n",
    "\n",
    "    # Crop the image to the specified AOI\n",
    "    aoi = img[y:y+height, x:x+width]\n",
    "\n",
    "    # Calculate the area of interest (AOI) in pixels\n",
    "    aoi_area = width * height\n",
    "\n",
    "    # Save the cropped AOI to the specified output path\n",
    "    cv2.imwrite(output_path, aoi)\n",
    "\n",
    "    return aoi_area\n",
    "\n",
    "# Example usage:\n",
    "image_path = 'oval.png'\n",
    "x, y, width, height = 100, 150, 200, 250  # Replace with your AOI coordinates\n",
    "output_path = 'C:/Users/dhyan/Downloads/data/output_aoi/oval_aoi.png'  # Replace with your desired output path\n",
    "aoi_area = crop_image_to_aoi(image_path, x, y, width, height, output_path)\n",
    "\n",
    "print(f\"Area of Interest (AOI) Area: {aoi_area} pixels\")\n"
   ]
  },
  {
   "cell_type": "code",
   "execution_count": null,
   "id": "c5ec0fa4",
   "metadata": {},
   "outputs": [],
   "source": []
  }
 ],
 "metadata": {
  "kernelspec": {
   "display_name": "Python 3 (ipykernel)",
   "language": "python",
   "name": "python3"
  },
  "language_info": {
   "codemirror_mode": {
    "name": "ipython",
    "version": 3
   },
   "file_extension": ".py",
   "mimetype": "text/x-python",
   "name": "python",
   "nbconvert_exporter": "python",
   "pygments_lexer": "ipython3",
   "version": "3.9.12"
  }
 },
 "nbformat": 4,
 "nbformat_minor": 5
}
