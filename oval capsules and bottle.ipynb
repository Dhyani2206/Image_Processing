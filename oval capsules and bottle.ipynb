{
 "cells": [
  {
   "cell_type": "code",
   "execution_count": 3,
   "id": "a46c852c",
   "metadata": {},
   "outputs": [
    {
     "name": "stdout",
     "output_type": "stream",
     "text": [
      "Enter a file path: C:/Users/dhyan/Downloads/data/output_oval capsules/\n",
      "pills.png\n",
      "Number of Contours found = 9\n",
      "Number of Oval Contours found = 9\n"
     ]
    }
   ],
   "source": [
    "import cv2\n",
    "import numpy as np\n",
    "import os\n",
    "import json\n",
    "\n",
    "path = input('Enter a file path: ')  # path of the folder of the masked images\n",
    "dirs = os.listdir(path)\n",
    "\n",
    "for item in dirs:\n",
    "    if os.path.isfile(os.path.join(path, item)):\n",
    "        filename, ext = os.path.splitext(item)\n",
    "        if ext.lower() == '.png':  # to process only BMP files\n",
    "            print(item)  # name of the file\n",
    "            image = cv2.imread(os.path.join(path, item))  # load the image\n",
    "\n",
    "            cv2.waitKey(0)\n",
    "            height, width, _ = image.shape  # height and width of the image\n",
    "\n",
    "            # Grayscale\n",
    "            gray = cv2.cvtColor(image, cv2.COLOR_BGR2GRAY)\n",
    "\n",
    "            # Find Canny edges\n",
    "            edged = cv2.Canny(gray, 100, 200)\n",
    "            cv2.waitKey(0)\n",
    "\n",
    "            # Finding Contours\n",
    "            contours, hierarchy = cv2.findContours(edged, cv2.RETR_EXTERNAL, cv2.CHAIN_APPROX_NONE)\n",
    "\n",
    "            print(\"Number of Contours found =\", len(contours))\n",
    "\n",
    "            # Filter contours based on shape (considering oval capsules)\n",
    "            oval_contours = []\n",
    "            for cnt in contours:\n",
    "                perimeter = cv2.arcLength(cnt, True)\n",
    "                approx = cv2.approxPolyDP(cnt, 0.002 * perimeter, True) #pproximates polygon with another polygon with less vertices\n",
    "                if len(approx) >= 6:  # Oval-like shape has at least 6 vertices\n",
    "                    oval_contours.append(approx)\n",
    "\n",
    "            print(\"Number of Oval Contours found =\", len(oval_contours))\n",
    "\n",
    "            # Annotate polygons\n",
    "            annotations = []\n",
    "            for cnt in oval_contours:\n",
    "                annotation = []\n",
    "                for point in cnt[:, 0, :]:\n",
    "                    x, y = point\n",
    "                    annotation.append([float(x), float(y)])\n",
    "                annotations.append(annotation)\n",
    "\n",
    "            json_path = os.path.join(path, filename + \".json\")\n",
    "            with open(json_path, \"w+\") as f:  # same filename as image\n",
    "                # format of the json\n",
    "                data = {\n",
    "                    \"version\": \"5.1.1\",\n",
    "                    \"flags\": {},\n",
    "                    \"shapes\": [\n",
    "                        {\n",
    "                            \"label\": \"product\",\n",
    "                            \"points\": annotation,\n",
    "                            \"group_id\": None,\n",
    "                            \"shape_type\": \"polygon\",\n",
    "                            \"flags\": {}\n",
    "                        } for annotation in annotations\n",
    "                    ],\n",
    "                    \"imagePath\": item,  # image name\n",
    "                    \"imageData\": None,\n",
    "                    \"imageHeight\": height,  # height of the image\n",
    "                    \"imageWidth\": width  # width of the image\n",
    "                }\n",
    "\n",
    "                json.dump(data, f, indent=4)"
   ]
  },
  {
   "cell_type": "code",
   "execution_count": null,
   "id": "2ff9989a",
   "metadata": {},
   "outputs": [],
   "source": []
  }
 ],
 "metadata": {
  "kernelspec": {
   "display_name": "Python 3 (ipykernel)",
   "language": "python",
   "name": "python3"
  },
  "language_info": {
   "codemirror_mode": {
    "name": "ipython",
    "version": 3
   },
   "file_extension": ".py",
   "mimetype": "text/x-python",
   "name": "python",
   "nbconvert_exporter": "python",
   "pygments_lexer": "ipython3",
   "version": "3.9.12"
  }
 },
 "nbformat": 4,
 "nbformat_minor": 5
}
