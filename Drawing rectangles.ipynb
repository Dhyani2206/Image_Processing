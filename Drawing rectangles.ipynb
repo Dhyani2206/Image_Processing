{
 "cells": [
  {
   "cell_type": "code",
   "execution_count": 2,
   "id": "1b94d9a7",
   "metadata": {},
   "outputs": [],
   "source": [
    "##drawing rectangles setting offset for each polygon"
   ]
  },
  {
   "cell_type": "code",
   "execution_count": null,
   "id": "7d110b2a",
   "metadata": {},
   "outputs": [],
   "source": [
    "import cv2\n",
    "import json\n",
    "import numpy as np\n",
    "\n",
    "def draw_enlarged_rectangle(image, points, offset):\n",
    "    rect = cv2.minAreaRect(points)\n",
    "    box = cv2.boxPoints(rect)\n",
    "    box = np.int0(box)\n",
    "\n",
    "    # Increase the rectangle size by the user-specified offset\n",
    "    enlarged_box = cv2.boxPoints(\n",
    "        (rect[0], (rect[1][0] + offset, rect[1][1] + offset), rect[2])\n",
    "    )\n",
    "    enlarged_box = np.int0(enlarged_box)\n",
    "\n",
    "    cv2.drawContours(image, [enlarged_box], 0, (0, 0, 255), 2)\n",
    "\n",
    "def crop_polygon(image, points, output_path):\n",
    "    rect = cv2.minAreaRect(points)\n",
    "    box = cv2.boxPoints(rect)\n",
    "    box = np.int0(box)\n",
    "\n",
    "    x, y, w, h = cv2.boundingRect(box)\n",
    "    cropped = image[y:y+h, x:x+w]\n",
    "    cv2.imwrite(output_path, cropped)\n",
    "\n",
    "def process_json(json_path, image_path):\n",
    "    with open(json_path) as json_file:\n",
    "        data = json.load(json_file)\n",
    "\n",
    "    image = cv2.imread(image_path)\n",
    "\n",
    "    for i, shape in enumerate(data[\"shapes\"]):\n",
    "        if shape[\"shape_type\"] == \"polygon\":\n",
    "            points = shape[\"points\"]\n",
    "            points = np.array(points, dtype=np.float32)\n",
    "\n",
    "            label = shape[\"label\"]\n",
    "            output_path = f\"product_{i}.png\"\n",
    "\n",
    "            # Prompt the user for the offset\n",
    "            offset = int(input(f\"Enter the offset for product {i+1}: \"))\n",
    "\n",
    "            draw_enlarged_rectangle(image, points, offset)\n",
    "            crop_polygon(image, points, output_path)\n",
    "\n",
    "    cv2.imshow(\"Annotated Image\", image)\n",
    "    cv2.waitKey(0)\n",
    "    cv2.destroyAllWindows()\n",
    "\n",
    "# Provide the paths to the JSON file and the image file\n",
    "json_path = \"AOI5_0.json\"\n",
    "image_path = \"AOI5_0.bmp\"\n",
    "\n",
    "process_json(json_path, image_path)"
   ]
  }
 ],
 "metadata": {
  "kernelspec": {
   "display_name": "Python 3 (ipykernel)",
   "language": "python",
   "name": "python3"
  },
  "language_info": {
   "codemirror_mode": {
    "name": "ipython",
    "version": 3
   },
   "file_extension": ".py",
   "mimetype": "text/x-python",
   "name": "python",
   "nbconvert_exporter": "python",
   "pygments_lexer": "ipython3",
   "version": "3.9.12"
  }
 },
 "nbformat": 4,
 "nbformat_minor": 5
}
